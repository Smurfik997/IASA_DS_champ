{
 "cells": [
  {
   "cell_type": "markdown",
   "id": "92ad6a6f-60ec-499b-98a4-64ba29d612ae",
   "metadata": {},
   "source": [
    "Даний блокнот необхідний для виконання прогнозів на вже навченій моделі, що збережена в файлі model.pkl.\n",
    "Дані, що будуть використовуватись для пронозу мають бути в також форматі, що і ті, що використовувались для навчання - тобто це має бути csv файл з усіма фічами. Далі виконуються потрібні для нашої моделі перетворення вхідних даних і виконується прогноз."
   ]
  },
  {
   "cell_type": "markdown",
   "id": "98f6cc56-b8f6-4a14-ac51-e5fbaae1c9ea",
   "metadata": {
    "tags": []
   },
   "source": [
    "### **Обгрунтування вибору основної метрики**"
   ]
  },
  {
   "cell_type": "markdown",
   "id": "2a839fc2-eb4e-4d42-94e4-f2132ac47d13",
   "metadata": {},
   "source": [
    "У якості основної метрики ми вирішили обрати **MAE**. Для цього краще розповімо чому нам не підійшли інші.\n",
    "\n",
    "Метрика MAPE, що розраховується за формулою $MAPE=\\frac{1}{n}\\times \\left( \\frac{{{y}_{pred}}-{{y}_{true}}}{{{y}_{true}}} \\right)$, містить в знаменику значення цільвої змінної, але в нашому наборі цільова змінна досить часто близька до нуля і тому при ділені на таке число ми отримуємо достатньо великі значення частки.\n",
    "\n",
    "Метрика RMSE досить сильно штрафує великі помилки. Тобто, наприклад, якщо майже на всіх даних у нас буде незначна помилка, але на якомусь із прикладів матиме велике значення, то RMSE також значно збільшиться. Дана метрика дуже чутлива до таких викидів в значеннях помилок. Оскільки для важлива загальна якість моделі і ми не приділяли досить багато уваги до конкретних прикладів, то нам не є дуже важливим контроль того, що на всіх прикладах мала помилка і лише на деяких вона значно більша. Тому дана метрика нам не дуже підходить. Формула для розрахунку - $RMSE=\\sqrt{\\frac{1}{n}\\times {{\\left( {{y}_{pred}}-{{y}_{true}} \\right)}^{2}}}$\n",
    "\n",
    "Саме тому ми обрали метрику MAE - вона в достатній мірі відображає помилку на більшості прикладів та проста в інтерпретації. Розраховується за формулою - $MAE=\\frac{1}{n}\\times \\left| {{y}_{pred}}-{{y}_{true}} \\right|$"
   ]
  },
  {
   "cell_type": "markdown",
   "id": "1085e4cf-c9ee-4c69-9f6e-ce4161e5f372",
   "metadata": {},
   "source": [
    "### **Завантажуємо збережену модель з файлу**"
   ]
  },
  {
   "cell_type": "code",
   "execution_count": 1,
   "id": "26dadb67-be25-4d1a-b96e-b34a2db5b356",
   "metadata": {},
   "outputs": [],
   "source": [
    "import pickle\n",
    "from xgboost import XGBRegressor\n",
    "from sklearn.linear_model import LinearRegression\n",
    "with open('model.pkl', 'rb') as file:\n",
    "    model = pickle.load(file)"
   ]
  },
  {
   "cell_type": "markdown",
   "id": "22172f4e-aec3-4aec-afe9-df01255c7eb6",
   "metadata": {},
   "source": [
    "### **Завантажуємо вхідні дані для прогнозу**"
   ]
  },
  {
   "cell_type": "code",
   "execution_count": 2,
   "id": "ffd7f221-bcdf-4421-8cff-ab5573644a3b",
   "metadata": {},
   "outputs": [
    {
     "name": "stdin",
     "output_type": "stream",
     "text": [
      "Шлях до набору даних: TEST TASK (dataset).csv\n"
     ]
    },
    {
     "name": "stdout",
     "output_type": "stream",
     "text": [
      "Всього спостережень в наборі: 10\n"
     ]
    }
   ],
   "source": [
    "import pandas as pd\n",
    "import numpy as np\n",
    "#data = pd.read_csv(input(\"Шлях до набору даних:\"), nrows=10).fillna(0)\n",
    "data = pd.read_csv(input(\"Шлях до набору даних:\")).fillna(0)\n",
    "print(f'Всього спостережень в наборі: {data.shape[0]}')"
   ]
  },
  {
   "cell_type": "markdown",
   "id": "527c902f-f43d-4bd6-988a-f60dc774e66e",
   "metadata": {},
   "source": [
    "### **Перетворюємо вхідні дані до потрібного для моделі вигляду**"
   ]
  },
  {
   "cell_type": "code",
   "execution_count": 4,
   "id": "3b479e8b-cf40-4977-aa78-02763959907a",
   "metadata": {},
   "outputs": [],
   "source": [
    "def trend_coeff(observations):\n",
    "    X = np.array([0, 1, 3, 7])[:len(observations), np.newaxis]\n",
    "    model = LinearRegression(n_jobs=-1).fit(X, np.array(observations)[:, np.newaxis])\n",
    "    return [model.coef_[0][0], model.intercept_[0]]\n",
    "\n",
    "# Sessions\n",
    "data[['total_sessions_trend', 'total_sessions_bias']] = data[[f'total_sessions_day{day}' for day in [0, 1, 3, 7]]].\\\n",
    "    apply(trend_coeff, axis=1).apply(pd.Series).rename(columns={0: 'total_sessions_trend', 1: 'total_sessions_bias'})\n",
    "\n",
    "# Chapters\n",
    "for idx in [1, 3, 9]:\n",
    "    data[f'chapters_finished_ratio{idx}'] = (\n",
    "        (data[f'chapters_finished_session{idx}'] - data[f'chapters_closed_session{idx}']) / data[f'chapters_opened_session{idx}']\n",
    "    ).fillna(0)\n",
    "data['chapters_finished_ratio'] = (data['chapters_finished_ratio1'] + data['chapters_finished_ratio3'] + data['chapters_finished_ratio9']) / 3\n",
    "\n",
    "# LTV\n",
    "for idx in [0, 1, 3]:\n",
    "    data[f'full_ltv_day{idx}'] = data[f'app_sub_ltv_day0'] + data[f'app_iap_ltv_day{idx}'] + data[f'ad_ltv_day{idx}']\n",
    "data['mean_full_ltv'] = (data['full_ltv_day0'] + data['full_ltv_day1'] / 2 + data['full_ltv_day3'] / 4) / 3\n",
    "\n",
    "# Tickets\n",
    "data[['tickets_spent_trend', 'tickets_spent_bias']] = data[[f'tickets_spent_day{day}' for day in [0, 1, 3, 7]]].\\\n",
    "    apply(trend_coeff, axis=1).apply(pd.Series).rename(columns={0: 'tickets_spent_trend', 1: 'tickets_spent_bias'})\n",
    "\n",
    "# Diamonds\n",
    "data[['diamonds_spent_trend', 'diamonds_spent_bias']] = data[[f'diamonds_spent_session{day}' for day in [1, 3, 9]]].\\\n",
    "    apply(trend_coeff, axis=1).apply(pd.Series).rename(columns={0: 'diamonds_spent_trend', 1: 'diamonds_spent_bias'})\n",
    "\n",
    "data_new = data[[\n",
    "    'total_sessions_trend', 'total_sessions_bias', 'chapters_finished_ratio', 'mean_full_ltv', 'tickets_spent_trend', 'tickets_spent_bias', \n",
    "    'diamonds_spent_trend', 'diamonds_spent_bias'#, 'target_full_ltv_day30'\n",
    "]].copy()\n",
    "\n",
    "X = data_new.loc[:, data_new.columns != 'target_full_ltv_day30']\n",
    "#y = data_new['target_full_ltv_day30']"
   ]
  },
  {
   "cell_type": "markdown",
   "id": "5ef042b6-e6b7-46d7-a2b0-392e7e7a8906",
   "metadata": {},
   "source": [
    "### **Отримуємо прогнозні значення**"
   ]
  },
  {
   "cell_type": "code",
   "execution_count": 6,
   "id": "f55cec46-d2c2-4bbb-a8f5-fd0650324cb1",
   "metadata": {},
   "outputs": [
    {
     "data": {
      "text/html": [
       "<div>\n",
       "<style scoped>\n",
       "    .dataframe tbody tr th:only-of-type {\n",
       "        vertical-align: middle;\n",
       "    }\n",
       "\n",
       "    .dataframe tbody tr th {\n",
       "        vertical-align: top;\n",
       "    }\n",
       "\n",
       "    .dataframe thead th {\n",
       "        text-align: right;\n",
       "    }\n",
       "</style>\n",
       "<table border=\"1\" class=\"dataframe\">\n",
       "  <thead>\n",
       "    <tr style=\"text-align: right;\">\n",
       "      <th></th>\n",
       "      <th>Predicted full LTV value</th>\n",
       "    </tr>\n",
       "  </thead>\n",
       "  <tbody>\n",
       "    <tr>\n",
       "      <th>0</th>\n",
       "      <td>0.003465</td>\n",
       "    </tr>\n",
       "    <tr>\n",
       "      <th>1</th>\n",
       "      <td>0.003465</td>\n",
       "    </tr>\n",
       "    <tr>\n",
       "      <th>2</th>\n",
       "      <td>0.003465</td>\n",
       "    </tr>\n",
       "    <tr>\n",
       "      <th>3</th>\n",
       "      <td>0.003465</td>\n",
       "    </tr>\n",
       "    <tr>\n",
       "      <th>4</th>\n",
       "      <td>0.003465</td>\n",
       "    </tr>\n",
       "    <tr>\n",
       "      <th>5</th>\n",
       "      <td>0.003465</td>\n",
       "    </tr>\n",
       "    <tr>\n",
       "      <th>6</th>\n",
       "      <td>0.003465</td>\n",
       "    </tr>\n",
       "    <tr>\n",
       "      <th>7</th>\n",
       "      <td>0.003465</td>\n",
       "    </tr>\n",
       "    <tr>\n",
       "      <th>8</th>\n",
       "      <td>0.003465</td>\n",
       "    </tr>\n",
       "    <tr>\n",
       "      <th>9</th>\n",
       "      <td>0.003465</td>\n",
       "    </tr>\n",
       "  </tbody>\n",
       "</table>\n",
       "</div>"
      ],
      "text/plain": [
       "   Predicted full LTV value\n",
       "0                  0.003465\n",
       "1                  0.003465\n",
       "2                  0.003465\n",
       "3                  0.003465\n",
       "4                  0.003465\n",
       "5                  0.003465\n",
       "6                  0.003465\n",
       "7                  0.003465\n",
       "8                  0.003465\n",
       "9                  0.003465"
      ]
     },
     "metadata": {},
     "output_type": "display_data"
    }
   ],
   "source": [
    "#from sklearn.metrics import mean_squared_error, mean_absolute_error, mean_absolute_percentage_error\n",
    "with pd.option_context('display.max_rows', None):\n",
    "    display(pd.DataFrame(data=model.predict(X), columns=['Predicted full LTV value']))\n",
    "#print(mean_absolute_percentage_error(model.predict(X), y))\n",
    "#print(mean_squared_error(model.predict(X), y))\n",
    "#print(mean_absolute_error(model.predict(X), y))"
   ]
  }
 ],
 "metadata": {
  "kernelspec": {
   "display_name": "Python 3 (ipykernel)",
   "language": "python",
   "name": "python3"
  },
  "language_info": {
   "codemirror_mode": {
    "name": "ipython",
    "version": 3
   },
   "file_extension": ".py",
   "mimetype": "text/x-python",
   "name": "python",
   "nbconvert_exporter": "python",
   "pygments_lexer": "ipython3",
   "version": "3.9.7"
  }
 },
 "nbformat": 4,
 "nbformat_minor": 5
}
